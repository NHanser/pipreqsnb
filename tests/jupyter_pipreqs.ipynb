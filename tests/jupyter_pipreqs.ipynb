{
 "cells": [
  {
   "cell_type": "code",
   "execution_count": 53,
   "metadata": {},
   "outputs": [],
   "source": [
    "import glob\n",
    "import json\n",
    "import ast"
   ]
  },
  {
   "cell_type": "code",
   "execution_count": 54,
   "metadata": {},
   "outputs": [
    {
     "name": "stdout",
     "output_type": "stream",
     "text": [
      "./autoencoder_test.ipynb\n",
      "./jupyter_pipreqs.ipynb\n",
      "./random_imports.ipynb\n",
      "./folder1/twitter_scrapper.ipynb\n",
      "./folder1/folder2/download_wiki_flags.ipynb\n"
     ]
    }
   ],
   "source": [
    "path = './'\n",
    "ipynb_files = [f for f in glob.glob(path + \"**/*.ipynb\", recursive=True)]\n",
    "\n",
    "for f in ipynb_files:\n",
    "    print(f)"
   ]
  },
  {
   "cell_type": "code",
   "execution_count": 55,
   "metadata": {},
   "outputs": [],
   "source": [
    "test_file = ipynb_files[2]"
   ]
  },
  {
   "cell_type": "code",
   "execution_count": 63,
   "metadata": {},
   "outputs": [
    {
     "data": {
      "text/plain": [
       "'./random_imports.ipynb'"
      ]
     },
     "execution_count": 63,
     "metadata": {},
     "output_type": "execute_result"
    }
   ],
   "source": [
    "test_file"
   ]
  },
  {
   "cell_type": "code",
   "execution_count": 64,
   "metadata": {},
   "outputs": [],
   "source": [
    "with open(test_file, 'r') as content_file:\n",
    "    content = content_file.read()"
   ]
  },
  {
   "cell_type": "code",
   "execution_count": 65,
   "metadata": {},
   "outputs": [],
   "source": [
    "nb = json.load(open(test_file, 'r'))"
   ]
  },
  {
   "cell_type": "code",
   "execution_count": 169,
   "metadata": {},
   "outputs": [],
   "source": [
    "def clean_invalid_lines_from_list_of_lines(list_of_lines):\n",
    "    invalid_starts = ['!', '%']\n",
    "    valid_python_lines = []\n",
    "    for line in list_of_lines:\n",
    "        if not any([line.startswith(x) for x in invalid_starts]):\n",
    "            valid_python_lines.append(iline)\n",
    "    valid_python_lines \n",
    "\n",
    "def get_import_string_from_source(source):\n",
    "    imports = []\n",
    "    splitted = source.splitlines()\n",
    "    tree = ast.parse(source)\n",
    "    for node in ast.walk(tree):\n",
    "    #     print(node)\n",
    "        if any([isinstance(node, ast.Import), isinstance(node, ast.ImportFrom)]):\n",
    "    #         print('import found', node.lineno)\n",
    "#             print(splitted[node.lineno-1])\n",
    "            imports.append(splitted[node.lineno-1])\n",
    "    return imports"
   ]
  },
  {
   "cell_type": "code",
   "execution_count": 170,
   "metadata": {},
   "outputs": [
    {
     "name": "stdout",
     "output_type": "stream",
     "text": [
      "['import tensorflow as tf\\n', 'from tensorflow import keras\\n', 'import numpy as np\\n', 'from tensorflow.keras.preprocessing.image import ImageDataGenerator\\n', 'import os\\n', 'import matplotlib.pyplot as plt\\n', '# import judo as jd\\n', '# import scipy']\n",
      "['import tensorflow as tf', 'from tensorflow import keras', 'import numpy as np', 'from tensorflow.keras.preprocessing.image import ImageDataGenerator', 'import os', 'import matplotlib.pyplot as plt']\n",
      "___\n",
      "['from tensorflow.keras.layers import Input, Dense, Conv2D, MaxPooling2D, UpSampling2D\\n', 'from tensorflow.keras.models import Model']\n",
      "['from tensorflow.keras.layers import Input, Dense, Conv2D, MaxPooling2D, UpSampling2D', 'from tensorflow.keras.models import Model']\n",
      "___\n",
      "[\"train_dir = './data/FlagsMashupBot/autoencoder_images/0/'\\n\", \"files = [f for f in os.listdir(train_dir) if not f.startswith('.')]\\n\"]\n",
      "[]\n",
      "___\n",
      "['image_count = len(files)']\n",
      "[]\n",
      "___\n",
      "['image_generator = ImageDataGenerator(rescale=1./255)']\n",
      "[]\n",
      "___\n",
      "['!pwd']\n"
     ]
    },
    {
     "ename": "SyntaxError",
     "evalue": "invalid syntax (<unknown>, line 1)",
     "output_type": "error",
     "traceback": [
      "Traceback \u001b[0;36m(most recent call last)\u001b[0m:\n",
      "  File \u001b[1;32m\"/Users/ivanlengyel/coding_projects/env_NLP/lib/python3.7/site-packages/IPython/core/interactiveshell.py\"\u001b[0m, line \u001b[1;32m3331\u001b[0m, in \u001b[1;35mrun_code\u001b[0m\n    exec(code_obj, self.user_global_ns, self.user_ns)\n",
      "  File \u001b[1;32m\"<ipython-input-170-32e0a537dfea>\"\u001b[0m, line \u001b[1;32m9\u001b[0m, in \u001b[1;35m<module>\u001b[0m\n    print(get_import_string_from_source(source))\n",
      "  File \u001b[1;32m\"<ipython-input-169-d8a50330d760>\"\u001b[0m, line \u001b[1;32m4\u001b[0m, in \u001b[1;35mget_import_string_from_source\u001b[0m\n    tree = ast.parse(source)\n",
      "\u001b[0;36m  File \u001b[0;32m\"/Users/ivanlengyel/coding_projects/env_NLP/lib/python3.7/ast.py\"\u001b[0;36m, line \u001b[0;32m35\u001b[0;36m, in \u001b[0;35mparse\u001b[0;36m\u001b[0m\n\u001b[0;31m    return compile(source, filename, mode, PyCF_ONLY_AST)\u001b[0m\n",
      "\u001b[0;36m  File \u001b[0;32m\"<unknown>\"\u001b[0;36m, line \u001b[0;32m1\u001b[0m\n\u001b[0;31m    !pwd\u001b[0m\n\u001b[0m    ^\u001b[0m\n\u001b[0;31mSyntaxError\u001b[0m\u001b[0;31m:\u001b[0m invalid syntax\n"
     ]
    }
   ],
   "source": [
    "test_cells = []\n",
    "imports_all = []\n",
    "for cell in nb['cells']:\n",
    "    if cell['cell_type'] == 'code':\n",
    "        print(cell['source'])\n",
    "        test_cells.append(cell['source'])\n",
    "        \n",
    "        source = ''.join(cell['source'])\n",
    "        print(get_import_string_from_source(source))\n",
    "        print('___')"
   ]
  },
  {
   "cell_type": "code",
   "execution_count": 167,
   "metadata": {},
   "outputs": [
    {
     "data": {
      "text/plain": [
       "['from tensorflow.keras.layers import Input, Dense, Conv2D, MaxPooling2D, UpSampling2D\\n',\n",
       " 'from tensorflow.keras.models import Model']"
      ]
     },
     "execution_count": 167,
     "metadata": {},
     "output_type": "execute_result"
    }
   ],
   "source": [
    "cell['source']"
   ]
  },
  {
   "cell_type": "code",
   "execution_count": 24,
   "metadata": {},
   "outputs": [
    {
     "data": {
      "text/plain": [
       "'asd bsd'"
      ]
     },
     "execution_count": 24,
     "metadata": {},
     "output_type": "execute_result"
    }
   ],
   "source": [
    "' '.join(['asd', 'bsd'])"
   ]
  },
  {
   "cell_type": "code",
   "execution_count": 20,
   "metadata": {},
   "outputs": [
    {
     "name": "stdout",
     "output_type": "stream",
     "text": [
      "import tensorflow as tf\n",
      "\n",
      "from tensorflow import keras\n",
      "\n",
      "import numpy as np\n",
      "\n",
      "from tensorflow.keras.preprocessing.image import ImageDataGenerator\n",
      "\n",
      "import os\n",
      "\n",
      "import matplotlib.pyplot as plt\n",
      "\n"
     ]
    }
   ],
   "source": [
    "with open('./temp_file.py', 'a') as temp_file:\n",
    "    for line in cell['source']:\n",
    "        if not line.startswith(\"#\") and ('import' in line):\n",
    "            print(line)\n",
    "            temp_file.write(line)\n",
    "    "
   ]
  },
  {
   "cell_type": "code",
   "execution_count": 27,
   "metadata": {},
   "outputs": [
    {
     "name": "stdout",
     "output_type": "stream",
     "text": [
      "import tensorflow as tf\n",
      "\n",
      "from tensorflow import keras\n",
      "\n",
      "import numpy as np\n",
      "\n",
      "from tensorflow.keras.preprocessing.image import ImageDataGenerator\n",
      "\n",
      "import os\n",
      "\n",
      "import matplotlib.pyplot as plt\n",
      "\n"
     ]
    }
   ],
   "source": [
    "for line in cell['source']:\n",
    "    if not line.startswith(\"#\") and ('import' in line):\n",
    "        print(line)\n",
    "#             temp_file.write(line)\n",
    "    \n",
    "\n",
    "# def get_imports(path):\n",
    "#     with open(path) as fh:        \n",
    "#        root = ast.parse(fh.read(), path)\n",
    "\n",
    "#     for node in ast.iter_child_nodes(root):\n",
    "#         if isinstance(node, ast.Import):"
   ]
  },
  {
   "cell_type": "code",
   "execution_count": 29,
   "metadata": {},
   "outputs": [],
   "source": [
    "import ast"
   ]
  },
  {
   "cell_type": "code",
   "execution_count": 145,
   "metadata": {},
   "outputs": [
    {
     "data": {
      "text/plain": [
       "['import tensorflow as tf\\n',\n",
       " 'from tensorflow import keras\\n',\n",
       " 'import numpy as np\\n',\n",
       " 'from tensorflow.keras.preprocessing.image import ImageDataGenerator\\n',\n",
       " 'import os\\n',\n",
       " 'import matplotlib.pyplot as plt\\n',\n",
       " '# import judo as jd\\n',\n",
       " '# import scipy']"
      ]
     },
     "execution_count": 145,
     "metadata": {},
     "output_type": "execute_result"
    }
   ],
   "source": [
    "test_string = ''.join(test_cells[0])\n",
    "test_cells[0]"
   ]
  },
  {
   "cell_type": "code",
   "execution_count": 146,
   "metadata": {},
   "outputs": [],
   "source": [
    "# test_string = \"import keras\\nprint('import random')\""
   ]
  },
  {
   "cell_type": "code",
   "execution_count": 147,
   "metadata": {},
   "outputs": [],
   "source": [
    "# a = ast.parse(''.join(test_cells[-1]))\n",
    "# tree = ast.parse(open('./test_for_loops.py','r').read())\n",
    "tree = ast.parse(test_string)"
   ]
  },
  {
   "cell_type": "code",
   "execution_count": 171,
   "metadata": {},
   "outputs": [
    {
     "data": {
      "text/plain": [
       "['import tensorflow as tf',\n",
       " 'from tensorflow import keras',\n",
       " 'import numpy as np',\n",
       " 'from tensorflow.keras.preprocessing.image import ImageDataGenerator',\n",
       " 'import os',\n",
       " 'import matplotlib.pyplot as plt']"
      ]
     },
     "execution_count": 171,
     "metadata": {},
     "output_type": "execute_result"
    }
   ],
   "source": [
    "get_import_string_from_source(test_string)"
   ]
  },
  {
   "cell_type": "code",
   "execution_count": 175,
   "metadata": {},
   "outputs": [
    {
     "data": {
      "text/plain": [
       "['!pwd']"
      ]
     },
     "execution_count": 175,
     "metadata": {},
     "output_type": "execute_result"
    }
   ],
   "source": [
    "cell['source']"
   ]
  },
  {
   "cell_type": "code",
   "execution_count": 185,
   "metadata": {},
   "outputs": [
    {
     "name": "stdout",
     "output_type": "stream",
     "text": [
      "!pwd\n"
     ]
    },
    {
     "data": {
      "text/plain": [
       "[]"
      ]
     },
     "execution_count": 185,
     "metadata": {},
     "output_type": "execute_result"
    }
   ],
   "source": [
    "def clean_invalid_lines_from_list_of_lines(list_of_lines):\n",
    "    invalid_starts = ['!', '%']\n",
    "    valid_python_lines = []\n",
    "    for line in list_of_lines:\n",
    "        if not any([line.startswith(x) for x in invalid_starts]):\n",
    "            valid_python_lines.append(iline)\n",
    "    valid_python_lines "
   ]
  },
  {
   "cell_type": "code",
   "execution_count": 181,
   "metadata": {},
   "outputs": [
    {
     "data": {
      "text/plain": [
       "True"
      ]
     },
     "execution_count": 181,
     "metadata": {},
     "output_type": "execute_result"
    }
   ],
   "source": [
    "any([cell['source'][0].startswith(x) for x in invalid_starts])"
   ]
  },
  {
   "cell_type": "code",
   "execution_count": 186,
   "metadata": {},
   "outputs": [
    {
     "data": {
      "text/plain": [
       "['!pwd']"
      ]
     },
     "execution_count": 186,
     "metadata": {},
     "output_type": "execute_result"
    }
   ],
   "source": []
  },
  {
   "cell_type": "code",
   "execution_count": null,
   "metadata": {},
   "outputs": [],
   "source": []
  }
 ],
 "metadata": {
  "kernelspec": {
   "display_name": "Python 3",
   "language": "python",
   "name": "python3"
  },
  "language_info": {
   "codemirror_mode": {
    "name": "ipython",
    "version": 3
   },
   "file_extension": ".py",
   "mimetype": "text/x-python",
   "name": "python",
   "nbconvert_exporter": "python",
   "pygments_lexer": "ipython3",
   "version": "3.7.6"
  }
 },
 "nbformat": 4,
 "nbformat_minor": 4
}
